{
 "cells": [
  {
   "cell_type": "markdown",
   "id": "f9d2f2fd",
   "metadata": {},
   "source": [
    "# Тестовое задание.\n",
    "# 1. Часть 1. SQL\n",
    "1. Есть таблица [FactSales]: Интересующие поля - [SalesAmountFull], [SalesQuantityFull], [PartnerKey], [ProductKey], [DateKey]. Соответственно по порядку продажи в деньгах, продажи в шт, кто купил, что купил, дата.\n",
    "* Задание: Посчитать ПО МЕСЯЦАМ скользящую годовую сумму продаж (и деньги и шт) в разрезе Месяц(например 202005)-[PartnerKey]-[ProductKey], т.е сколько какого товара купил контрагент суммарно за текущий и 11 предыдущих месяцев.\n",
    "* PS. Данные у нас условно с 2010 года например.\n",
    "* Результат - *.txt файл с SQL-кодом\n",
    "\n",
    "# 1. Часть 2. Python & ML\n",
    "2. Создать лаги продаж на период от 1 дня до 2 недель для каждого SKU из файла test_for_lags.pkl\n",
    "3. Файл task_2_ содержит данные о сессиях пользователей. Одна строчка в файле содержит факторы, посчитанные по одной дневной сессии пользователя (одна строка = один пользователь). В строке факторы разделены между собой знаками табуляции, физический смысл факторов не раскрывается. Известно, что в файле присутствуют как сессии живых людей, так и роботов. Также известно, что роботные сессии отличаются от сессий живых пользователей тем, что имеют определенные закономерности в поведении (для нашего случая в значениях факторов). \n",
    "* Необходимо разделить сессии на две части - роботные и человеческие. Известно, что под каждую закономерность может попадать не более 20% сессий. Количество закономерностей (=правил) - не меньше трех. Количество факторов в каждом правиле - не менее четырех.  Один из способов решения задания (не обязательно использовать\n",
    "его!): http://en.wikipedia.org/wiki/Association_rule_learning \n",
    "* Выполненное задание должно содержать *.ipynb файл с кодом , описание выбранной методики, ход мыслей, словесное описание полученных результатов, получившиеся правила (если методом был выбраны ассоциативные правила), а также разделенные на 2 части сессии - роботные и человеческие."
   ]
  },
  {
   "cell_type": "markdown",
   "id": "fcbd8021",
   "metadata": {},
   "source": [
    "## 2.1. Импорты"
   ]
  },
  {
   "cell_type": "code",
   "execution_count": 69,
   "id": "1eb58443",
   "metadata": {},
   "outputs": [],
   "source": [
    "from apyori import apriori\n",
    "import pandas as pd\n",
    "import numpy as np\n",
    "import sys\n",
    "from tqdm import tqdm\n",
    "\n",
    "import matplotlib.pyplot as plt\n",
    "import seaborn as sns\n",
    "sns.set_style(\"darkgrid\")\n",
    "sns.set(rc={'figure.figsize':(15, 6)})\n",
    "\n",
    "import datetime"
   ]
  },
  {
   "cell_type": "markdown",
   "id": "b97bb76b",
   "metadata": {},
   "source": [
    "## 2.2. Загрузка и первоначальное знакомство с данными"
   ]
  },
  {
   "cell_type": "markdown",
   "id": "c56ee0ec",
   "metadata": {},
   "source": [
    "### 2.2.1. Файл 'test_for_lags.pkl'"
   ]
  },
  {
   "cell_type": "code",
   "execution_count": 43,
   "id": "474e18b8",
   "metadata": {},
   "outputs": [],
   "source": [
    "test_for_lags = pd.read_pickle(r'E:\\Dwnld\\Тестовое\\test_for_lags.pkl')"
   ]
  },
  {
   "cell_type": "code",
   "execution_count": 44,
   "id": "a93b62b2",
   "metadata": {},
   "outputs": [
    {
     "name": "stdout",
     "output_type": "stream",
     "text": [
      "<class 'pandas.core.frame.DataFrame'>\n",
      "RangeIndex: 308304 entries, 0 to 308303\n",
      "Data columns (total 3 columns):\n",
      " #   Column      Non-Null Count   Dtype         \n",
      "---  ------      --------------   -----         \n",
      " 0   DateKey     308304 non-null  datetime64[ns]\n",
      " 1   ProductKey  308304 non-null  int32         \n",
      " 2   sales_qnty  308304 non-null  int32         \n",
      "dtypes: datetime64[ns](1), int32(2)\n",
      "memory usage: 4.7 MB\n"
     ]
    }
   ],
   "source": [
    "test_for_lags.info()"
   ]
  },
  {
   "cell_type": "code",
   "execution_count": 45,
   "id": "e3d9672a",
   "metadata": {},
   "outputs": [
    {
     "data": {
      "text/html": [
       "<div>\n",
       "<style scoped>\n",
       "    .dataframe tbody tr th:only-of-type {\n",
       "        vertical-align: middle;\n",
       "    }\n",
       "\n",
       "    .dataframe tbody tr th {\n",
       "        vertical-align: top;\n",
       "    }\n",
       "\n",
       "    .dataframe thead th {\n",
       "        text-align: right;\n",
       "    }\n",
       "</style>\n",
       "<table border=\"1\" class=\"dataframe\">\n",
       "  <thead>\n",
       "    <tr style=\"text-align: right;\">\n",
       "      <th></th>\n",
       "      <th>DateKey</th>\n",
       "      <th>ProductKey</th>\n",
       "      <th>sales_qnty</th>\n",
       "    </tr>\n",
       "  </thead>\n",
       "  <tbody>\n",
       "    <tr>\n",
       "      <th>0</th>\n",
       "      <td>2020-02-17</td>\n",
       "      <td>694085</td>\n",
       "      <td>192</td>\n",
       "    </tr>\n",
       "    <tr>\n",
       "      <th>1</th>\n",
       "      <td>2020-02-21</td>\n",
       "      <td>718133</td>\n",
       "      <td>6859</td>\n",
       "    </tr>\n",
       "    <tr>\n",
       "      <th>2</th>\n",
       "      <td>2020-02-25</td>\n",
       "      <td>744235</td>\n",
       "      <td>2040</td>\n",
       "    </tr>\n",
       "    <tr>\n",
       "      <th>3</th>\n",
       "      <td>2020-05-06</td>\n",
       "      <td>777569</td>\n",
       "      <td>53</td>\n",
       "    </tr>\n",
       "    <tr>\n",
       "      <th>4</th>\n",
       "      <td>2020-05-16</td>\n",
       "      <td>766750</td>\n",
       "      <td>27993</td>\n",
       "    </tr>\n",
       "  </tbody>\n",
       "</table>\n",
       "</div>"
      ],
      "text/plain": [
       "     DateKey  ProductKey  sales_qnty\n",
       "0 2020-02-17      694085         192\n",
       "1 2020-02-21      718133        6859\n",
       "2 2020-02-25      744235        2040\n",
       "3 2020-05-06      777569          53\n",
       "4 2020-05-16      766750       27993"
      ]
     },
     "execution_count": 45,
     "metadata": {},
     "output_type": "execute_result"
    }
   ],
   "source": [
    "test_for_lags.head()"
   ]
  },
  {
   "cell_type": "code",
   "execution_count": 46,
   "id": "7532c5ef",
   "metadata": {},
   "outputs": [
    {
     "data": {
      "text/html": [
       "<div>\n",
       "<style scoped>\n",
       "    .dataframe tbody tr th:only-of-type {\n",
       "        vertical-align: middle;\n",
       "    }\n",
       "\n",
       "    .dataframe tbody tr th {\n",
       "        vertical-align: top;\n",
       "    }\n",
       "\n",
       "    .dataframe thead th {\n",
       "        text-align: right;\n",
       "    }\n",
       "</style>\n",
       "<table border=\"1\" class=\"dataframe\">\n",
       "  <thead>\n",
       "    <tr style=\"text-align: right;\">\n",
       "      <th></th>\n",
       "      <th>ProductKey</th>\n",
       "      <th>sales_qnty</th>\n",
       "    </tr>\n",
       "  </thead>\n",
       "  <tbody>\n",
       "    <tr>\n",
       "      <th>count</th>\n",
       "      <td>308304.000000</td>\n",
       "      <td>3.083040e+05</td>\n",
       "    </tr>\n",
       "    <tr>\n",
       "      <th>mean</th>\n",
       "      <td>706644.318624</td>\n",
       "      <td>1.314437e+03</td>\n",
       "    </tr>\n",
       "    <tr>\n",
       "      <th>std</th>\n",
       "      <td>52636.940939</td>\n",
       "      <td>3.717582e+04</td>\n",
       "    </tr>\n",
       "    <tr>\n",
       "      <th>min</th>\n",
       "      <td>0.000000</td>\n",
       "      <td>-2.949350e+05</td>\n",
       "    </tr>\n",
       "    <tr>\n",
       "      <th>25%</th>\n",
       "      <td>663821.000000</td>\n",
       "      <td>1.200000e+01</td>\n",
       "    </tr>\n",
       "    <tr>\n",
       "      <th>50%</th>\n",
       "      <td>697650.000000</td>\n",
       "      <td>6.000000e+01</td>\n",
       "    </tr>\n",
       "    <tr>\n",
       "      <th>75%</th>\n",
       "      <td>743244.000000</td>\n",
       "      <td>3.000000e+02</td>\n",
       "    </tr>\n",
       "    <tr>\n",
       "      <th>max</th>\n",
       "      <td>848822.000000</td>\n",
       "      <td>1.797017e+07</td>\n",
       "    </tr>\n",
       "  </tbody>\n",
       "</table>\n",
       "</div>"
      ],
      "text/plain": [
       "          ProductKey    sales_qnty\n",
       "count  308304.000000  3.083040e+05\n",
       "mean   706644.318624  1.314437e+03\n",
       "std     52636.940939  3.717582e+04\n",
       "min         0.000000 -2.949350e+05\n",
       "25%    663821.000000  1.200000e+01\n",
       "50%    697650.000000  6.000000e+01\n",
       "75%    743244.000000  3.000000e+02\n",
       "max    848822.000000  1.797017e+07"
      ]
     },
     "execution_count": 46,
     "metadata": {},
     "output_type": "execute_result"
    }
   ],
   "source": [
    "test_for_lags.describe()"
   ]
  },
  {
   "cell_type": "code",
   "execution_count": 47,
   "id": "94e34d8a",
   "metadata": {},
   "outputs": [
    {
     "data": {
      "text/html": [
       "<div>\n",
       "<style scoped>\n",
       "    .dataframe tbody tr th:only-of-type {\n",
       "        vertical-align: middle;\n",
       "    }\n",
       "\n",
       "    .dataframe tbody tr th {\n",
       "        vertical-align: top;\n",
       "    }\n",
       "\n",
       "    .dataframe thead th {\n",
       "        text-align: right;\n",
       "    }\n",
       "</style>\n",
       "<table border=\"1\" class=\"dataframe\">\n",
       "  <thead>\n",
       "    <tr style=\"text-align: right;\">\n",
       "      <th></th>\n",
       "      <th>DateKey</th>\n",
       "      <th>ProductKey</th>\n",
       "      <th>sales_qnty</th>\n",
       "    </tr>\n",
       "  </thead>\n",
       "  <tbody>\n",
       "    <tr>\n",
       "      <th>172</th>\n",
       "      <td>2020-05-27</td>\n",
       "      <td>828045</td>\n",
       "      <td>-15</td>\n",
       "    </tr>\n",
       "    <tr>\n",
       "      <th>218</th>\n",
       "      <td>2020-05-14</td>\n",
       "      <td>770612</td>\n",
       "      <td>-84</td>\n",
       "    </tr>\n",
       "    <tr>\n",
       "      <th>248</th>\n",
       "      <td>2020-01-13</td>\n",
       "      <td>668783</td>\n",
       "      <td>-7</td>\n",
       "    </tr>\n",
       "    <tr>\n",
       "      <th>363</th>\n",
       "      <td>2020-06-01</td>\n",
       "      <td>826346</td>\n",
       "      <td>-3</td>\n",
       "    </tr>\n",
       "    <tr>\n",
       "      <th>390</th>\n",
       "      <td>2020-03-11</td>\n",
       "      <td>748634</td>\n",
       "      <td>-19</td>\n",
       "    </tr>\n",
       "    <tr>\n",
       "      <th>...</th>\n",
       "      <td>...</td>\n",
       "      <td>...</td>\n",
       "      <td>...</td>\n",
       "    </tr>\n",
       "    <tr>\n",
       "      <th>307583</th>\n",
       "      <td>2020-05-27</td>\n",
       "      <td>810730</td>\n",
       "      <td>-90</td>\n",
       "    </tr>\n",
       "    <tr>\n",
       "      <th>307675</th>\n",
       "      <td>2020-05-27</td>\n",
       "      <td>828106</td>\n",
       "      <td>-30</td>\n",
       "    </tr>\n",
       "    <tr>\n",
       "      <th>307886</th>\n",
       "      <td>2020-01-13</td>\n",
       "      <td>664242</td>\n",
       "      <td>-10</td>\n",
       "    </tr>\n",
       "    <tr>\n",
       "      <th>307980</th>\n",
       "      <td>2020-01-16</td>\n",
       "      <td>703013</td>\n",
       "      <td>-3</td>\n",
       "    </tr>\n",
       "    <tr>\n",
       "      <th>308199</th>\n",
       "      <td>2020-01-13</td>\n",
       "      <td>697463</td>\n",
       "      <td>-5</td>\n",
       "    </tr>\n",
       "  </tbody>\n",
       "</table>\n",
       "<p>2883 rows × 3 columns</p>\n",
       "</div>"
      ],
      "text/plain": [
       "          DateKey  ProductKey  sales_qnty\n",
       "172    2020-05-27      828045         -15\n",
       "218    2020-05-14      770612         -84\n",
       "248    2020-01-13      668783          -7\n",
       "363    2020-06-01      826346          -3\n",
       "390    2020-03-11      748634         -19\n",
       "...           ...         ...         ...\n",
       "307583 2020-05-27      810730         -90\n",
       "307675 2020-05-27      828106         -30\n",
       "307886 2020-01-13      664242         -10\n",
       "307980 2020-01-16      703013          -3\n",
       "308199 2020-01-13      697463          -5\n",
       "\n",
       "[2883 rows x 3 columns]"
      ]
     },
     "execution_count": 47,
     "metadata": {},
     "output_type": "execute_result"
    }
   ],
   "source": [
    "# замечено, что количество заказов где-то принимает отрицательные значения - надо посмотреть где это произошло?\n",
    "test_for_lags.query('sales_qnty<0')"
   ]
  },
  {
   "cell_type": "code",
   "execution_count": 48,
   "id": "8b28a8da",
   "metadata": {},
   "outputs": [],
   "source": [
    "# таких данных довольно много - 2883 шт, не понятно что это - ошибка ввода (и надо тогда их взять по модулю), или значение этого столбца НЕ \"количество заказов\"\n",
    "# но нам надо получить лаги, а даже такие значения - это какая-то активность, поэтому возьмем эти значение по модулю\n",
    "test_for_lags['sales_qnty'] = test_for_lags['sales_qnty'].apply(abs)"
   ]
  },
  {
   "cell_type": "markdown",
   "id": "aaace36c",
   "metadata": {},
   "source": [
    "### Вывод по файлу 'test_for_lags.pkl':\n",
    "1. Пропусков в данных нет, формат данных корректный.\n",
    "2. Поле 'sales_qnty' содержит значения меньше нуля!"
   ]
  },
  {
   "cell_type": "code",
   "execution_count": 49,
   "id": "1a95bb6a",
   "metadata": {},
   "outputs": [],
   "source": [
    "# для того, чтобы оперировать с данными, как с временным рядом, назначим время индексом, предварительно отсортировав его\n",
    "test_for_lags = test_for_lags.sort_values (by = 'DateKey', ascending = True)\n",
    "test_for_lags = test_for_lags.set_index('DateKey')"
   ]
  },
  {
   "cell_type": "code",
   "execution_count": 50,
   "id": "367b166a",
   "metadata": {},
   "outputs": [
    {
     "name": "stdout",
     "output_type": "stream",
     "text": [
      "Данные отсортированы по времени: True\n"
     ]
    }
   ],
   "source": [
    "print('Данные отсортированы по времени:', test_for_lags.index.is_monotonic)"
   ]
  },
  {
   "cell_type": "code",
   "execution_count": 51,
   "id": "b5672505",
   "metadata": {},
   "outputs": [
    {
     "name": "stdout",
     "output_type": "stream",
     "text": [
      "Имеем данные за период: 2020-01-01 00:00:00 - 2020-06-01 00:00:00\n"
     ]
    }
   ],
   "source": [
    "print('Имеем данные за период:', test_for_lags.index.min(), '-', test_for_lags.index.max())"
   ]
  },
  {
   "cell_type": "code",
   "execution_count": 52,
   "id": "928f0792",
   "metadata": {
    "scrolled": true
   },
   "outputs": [
    {
     "data": {
      "text/plain": [
       "<AxesSubplot:title={'center':'Исходные значения'}, xlabel='Время заказа', ylabel='Количество заказов'>"
      ]
     },
     "execution_count": 52,
     "metadata": {},
     "output_type": "execute_result"
    },
    {
     "data": {
      "image/png": "[encoded data removed]",
      "text/plain": [
       "<Figure size 1200x900 with 1 Axes>"
      ]
     },
     "metadata": {},
     "output_type": "display_data"
    }
   ],
   "source": [
    "test_for_lags.drop('ProductKey', axis=1).plot(figsize=[12,9], title='Исходные значения', xlabel='Время заказа', ylabel='Количество заказов')"
   ]
  },
  {
   "cell_type": "code",
   "execution_count": 53,
   "id": "15e59e6c",
   "metadata": {},
   "outputs": [],
   "source": [
    "# т.к. надо посчитать лаги от отдного дня, то надо сделать ресемплинг количества заказов по дням\n",
    "test_for_lags_1D = test_for_lags.drop('ProductKey', axis=1).resample('1D', label='right').sum()"
   ]
  },
  {
   "cell_type": "code",
   "execution_count": 54,
   "id": "484745d9",
   "metadata": {},
   "outputs": [
    {
     "name": "stdout",
     "output_type": "stream",
     "text": [
      "<class 'pandas.core.frame.DataFrame'>\n",
      "DatetimeIndex: 153 entries, 2020-01-02 to 2020-06-02\n",
      "Freq: D\n",
      "Data columns (total 1 columns):\n",
      " #   Column      Non-Null Count  Dtype\n",
      "---  ------      --------------  -----\n",
      " 0   sales_qnty  153 non-null    int64\n",
      "dtypes: int64(1)\n",
      "memory usage: 2.4 KB\n"
     ]
    }
   ],
   "source": [
    "test_for_lags_1D.info()"
   ]
  },
  {
   "cell_type": "code",
   "execution_count": 55,
   "id": "cb8cc877",
   "metadata": {},
   "outputs": [
    {
     "data": {
      "text/html": [
       "<div>\n",
       "<style scoped>\n",
       "    .dataframe tbody tr th:only-of-type {\n",
       "        vertical-align: middle;\n",
       "    }\n",
       "\n",
       "    .dataframe tbody tr th {\n",
       "        vertical-align: top;\n",
       "    }\n",
       "\n",
       "    .dataframe thead th {\n",
       "        text-align: right;\n",
       "    }\n",
       "</style>\n",
       "<table border=\"1\" class=\"dataframe\">\n",
       "  <thead>\n",
       "    <tr style=\"text-align: right;\">\n",
       "      <th></th>\n",
       "      <th>sales_qnty</th>\n",
       "    </tr>\n",
       "    <tr>\n",
       "      <th>DateKey</th>\n",
       "      <th></th>\n",
       "    </tr>\n",
       "  </thead>\n",
       "  <tbody>\n",
       "    <tr>\n",
       "      <th>2020-01-02</th>\n",
       "      <td>1120</td>\n",
       "    </tr>\n",
       "    <tr>\n",
       "      <th>2020-01-03</th>\n",
       "      <td>0</td>\n",
       "    </tr>\n",
       "    <tr>\n",
       "      <th>2020-01-04</th>\n",
       "      <td>0</td>\n",
       "    </tr>\n",
       "    <tr>\n",
       "      <th>2020-01-05</th>\n",
       "      <td>0</td>\n",
       "    </tr>\n",
       "    <tr>\n",
       "      <th>2020-01-06</th>\n",
       "      <td>0</td>\n",
       "    </tr>\n",
       "  </tbody>\n",
       "</table>\n",
       "</div>"
      ],
      "text/plain": [
       "            sales_qnty\n",
       "DateKey               \n",
       "2020-01-02        1120\n",
       "2020-01-03           0\n",
       "2020-01-04           0\n",
       "2020-01-05           0\n",
       "2020-01-06           0"
      ]
     },
     "execution_count": 55,
     "metadata": {},
     "output_type": "execute_result"
    }
   ],
   "source": [
    "test_for_lags_1D.head()"
   ]
  },
  {
   "cell_type": "code",
   "execution_count": 56,
   "id": "3034d8f8",
   "metadata": {},
   "outputs": [
    {
     "data": {
      "text/plain": [
       "<AxesSubplot:title={'center':'Исходные значения'}, xlabel='Время заказа', ylabel='Количество заказов'>"
      ]
     },
     "execution_count": 56,
     "metadata": {},
     "output_type": "execute_result"
    },
    {
     "data": {
      "image/png": "[encoded data removed]",
      "text/plain": [
       "<Figure size 1200x900 with 1 Axes>"
      ]
     },
     "metadata": {},
     "output_type": "display_data"
    }
   ],
   "source": [
    "test_for_lags_1D.plot(figsize=[12,9], title='График заказов по дням', xlabel='Время заказа', ylabel='Количество заказов')"
   ]
  },
  {
   "cell_type": "code",
   "execution_count": null,
   "id": "ec53f6ae",
   "metadata": {},
   "outputs": [],
   "source": [
    "# заказы идут не только в рабочие дни, поэтому используем именно \"1D\", а не \"1B\""
   ]
  },
  {
   "cell_type": "code",
   "execution_count": 58,
   "id": "9b2d54fb",
   "metadata": {},
   "outputs": [
    {
     "data": {
      "text/html": [
       "<div>\n",
       "<style scoped>\n",
       "    .dataframe tbody tr th:only-of-type {\n",
       "        vertical-align: middle;\n",
       "    }\n",
       "\n",
       "    .dataframe tbody tr th {\n",
       "        vertical-align: top;\n",
       "    }\n",
       "\n",
       "    .dataframe thead th {\n",
       "        text-align: right;\n",
       "    }\n",
       "</style>\n",
       "<table border=\"1\" class=\"dataframe\">\n",
       "  <thead>\n",
       "    <tr style=\"text-align: right;\">\n",
       "      <th></th>\n",
       "      <th>sales_qnty</th>\n",
       "    </tr>\n",
       "    <tr>\n",
       "      <th>DateKey</th>\n",
       "      <th></th>\n",
       "    </tr>\n",
       "  </thead>\n",
       "  <tbody>\n",
       "    <tr>\n",
       "      <th>2020-01-03</th>\n",
       "      <td>0</td>\n",
       "    </tr>\n",
       "    <tr>\n",
       "      <th>2020-01-04</th>\n",
       "      <td>0</td>\n",
       "    </tr>\n",
       "    <tr>\n",
       "      <th>2020-01-05</th>\n",
       "      <td>0</td>\n",
       "    </tr>\n",
       "    <tr>\n",
       "      <th>2020-01-06</th>\n",
       "      <td>0</td>\n",
       "    </tr>\n",
       "    <tr>\n",
       "      <th>2020-01-08</th>\n",
       "      <td>0</td>\n",
       "    </tr>\n",
       "    <tr>\n",
       "      <th>2020-01-09</th>\n",
       "      <td>0</td>\n",
       "    </tr>\n",
       "    <tr>\n",
       "      <th>2020-04-12</th>\n",
       "      <td>0</td>\n",
       "    </tr>\n",
       "    <tr>\n",
       "      <th>2020-05-04</th>\n",
       "      <td>0</td>\n",
       "    </tr>\n",
       "    <tr>\n",
       "      <th>2020-05-10</th>\n",
       "      <td>0</td>\n",
       "    </tr>\n",
       "  </tbody>\n",
       "</table>\n",
       "</div>"
      ],
      "text/plain": [
       "            sales_qnty\n",
       "DateKey               \n",
       "2020-01-03           0\n",
       "2020-01-04           0\n",
       "2020-01-05           0\n",
       "2020-01-06           0\n",
       "2020-01-08           0\n",
       "2020-01-09           0\n",
       "2020-04-12           0\n",
       "2020-05-04           0\n",
       "2020-05-10           0"
      ]
     },
     "execution_count": 58,
     "metadata": {},
     "output_type": "execute_result"
    }
   ],
   "source": [
    "test_for_lags_1D.query('sales_qnty==0')"
   ]
  },
  {
   "cell_type": "code",
   "execution_count": 62,
   "id": "5b9ad32e",
   "metadata": {},
   "outputs": [],
   "source": [
    "# объединим их в слитные интервалы\n",
    "day_lags = list(test_for_lags_1D.query('sales_qnty==0').index)"
   ]
  },
  {
   "cell_type": "code",
   "execution_count": 63,
   "id": "9790fcf0",
   "metadata": {},
   "outputs": [
    {
     "data": {
      "text/plain": [
       "[Timestamp('2020-01-03 00:00:00'),\n",
       " Timestamp('2020-01-04 00:00:00'),\n",
       " Timestamp('2020-01-05 00:00:00'),\n",
       " Timestamp('2020-01-06 00:00:00'),\n",
       " Timestamp('2020-01-08 00:00:00'),\n",
       " Timestamp('2020-01-09 00:00:00'),\n",
       " Timestamp('2020-04-12 00:00:00'),\n",
       " Timestamp('2020-05-04 00:00:00'),\n",
       " Timestamp('2020-05-10 00:00:00')]"
      ]
     },
     "execution_count": 63,
     "metadata": {},
     "output_type": "execute_result"
    }
   ],
   "source": [
    "day_lags"
   ]
  },
  {
   "cell_type": "code",
   "execution_count": 64,
   "id": "c7928cc0",
   "metadata": {},
   "outputs": [
    {
     "data": {
      "text/plain": [
       "Timedelta('-1 days +00:00:00')"
      ]
     },
     "execution_count": 64,
     "metadata": {},
     "output_type": "execute_result"
    }
   ],
   "source": [
    "day_lags[0] - day_lags[1]"
   ]
  },
  {
   "cell_type": "code",
   "execution_count": 70,
   "id": "a7b3cd3e",
   "metadata": {},
   "outputs": [],
   "source": [
    "delta_t = datetime.timedelta(days=1,\n",
    "                             seconds=0,\n",
    "                             microseconds=0,\n",
    "                             milliseconds=0,\n",
    "                             minutes=0,\n",
    "                             hours=0,\n",
    "                             weeks=0)"
   ]
  },
  {
   "cell_type": "code",
   "execution_count": 78,
   "id": "f7dcd50c",
   "metadata": {},
   "outputs": [
    {
     "name": "stdout",
     "output_type": "stream",
     "text": [
      "LAG\n",
      "LAG\n",
      "LAG\n",
      "-\n",
      "LAG\n",
      "-\n",
      "-\n",
      "-\n"
     ]
    }
   ],
   "source": [
    "lag_list = []\n",
    "lag_str = ''\n",
    "\n",
    "for i in range(len(day_lags)):\n",
    "    if i!=len(day_lags)-1:\n",
    "        if day_lags[i+1]-day_lags[i]<=delta_t:\n",
    "            print('LAG')\n",
    "            if lag_str=='':\n",
    "                lag_str = day_lags[i].strftime(\"%Y-%m-%d\")\n",
    "        else:\n",
    "            if lag_str!='':\n",
    "                lag_str = lag_str + f' - {day_lags[i].strftime(\"%Y-%m-%d\")}'\n",
    "                lag_list.append(lag_str)\n",
    "                lag_str = ''\n",
    "            print('-')"
   ]
  },
  {
   "cell_type": "code",
   "execution_count": 80,
   "id": "922fbc94",
   "metadata": {},
   "outputs": [
    {
     "name": "stdout",
     "output_type": "stream",
     "text": [
      "Обнаружены следующие лаги по продажам:\n",
      "2020-01-03 - 2020-01-06\n",
      "2020-01-08 - 2020-01-09\n"
     ]
    }
   ],
   "source": [
    "print('Обнаружены следующие лаги по продажам:')\n",
    "for lag in lag_list:\n",
    "    print(lag)"
   ]
  },
  {
   "cell_type": "code",
   "execution_count": 60,
   "id": "467d22de",
   "metadata": {},
   "outputs": [],
   "source": [
    "# теперь посмотрим лаги по 2-недельным интервалам\n",
    "test_for_lags_2W = test_for_lags.drop('ProductKey', axis=1).resample('2W', label='right').sum()"
   ]
  },
  {
   "cell_type": "code",
   "execution_count": 61,
   "id": "5be711b2",
   "metadata": {},
   "outputs": [
    {
     "data": {
      "text/plain": [
       "<AxesSubplot:title={'center':'График заказов по неделям'}, xlabel='Время заказа', ylabel='Количество заказов'>"
      ]
     },
     "execution_count": 61,
     "metadata": {},
     "output_type": "execute_result"
    },
    {
     "data": {
      "image/png": "[encoded data removed]",
      "text/plain": [
       "<Figure size 1200x900 with 1 Axes>"
      ]
     },
     "metadata": {},
     "output_type": "display_data"
    }
   ],
   "source": [
    "test_for_lags_2W.plot(figsize=[12,9], title='График заказов по 2-недельным интервалам', xlabel='Время заказа', ylabel='Количество заказов')"
   ]
  },
  {
   "cell_type": "code",
   "execution_count": null,
   "id": "880792b5",
   "metadata": {},
   "outputs": [],
   "source": [
    "# лагов по 2-недельным интервалам не замечено"
   ]
  },
  {
   "cell_type": "markdown",
   "id": "9ce368a5",
   "metadata": {},
   "source": [
    "### 2.2.2. Файл 'task2_1_'"
   ]
  },
  {
   "cell_type": "code",
   "execution_count": 6,
   "id": "70c97f46",
   "metadata": {},
   "outputs": [],
   "source": [
    "names = ['session_id'] + list(np.arange(187).astype(str))"
   ]
  },
  {
   "cell_type": "code",
   "execution_count": 7,
   "id": "e9d9dc28",
   "metadata": {},
   "outputs": [],
   "source": [
    "data = pd.read_csv(r'E:\\Dwnld\\Тестовое\\task2_1_', sep='\\t', names=names)"
   ]
  },
  {
   "cell_type": "code",
   "execution_count": 8,
   "id": "2bf841cd",
   "metadata": {},
   "outputs": [
    {
     "name": "stdout",
     "output_type": "stream",
     "text": [
      "<class 'pandas.core.frame.DataFrame'>\n",
      "RangeIndex: 49958 entries, 0 to 49957\n",
      "Columns: 188 entries, session_id to 186\n",
      "dtypes: int64(43), object(145)\n",
      "memory usage: 71.7+ MB\n"
     ]
    }
   ],
   "source": [
    "data.info()"
   ]
  },
  {
   "cell_type": "code",
   "execution_count": 9,
   "id": "d21ce26b",
   "metadata": {},
   "outputs": [
    {
     "data": {
      "text/html": [
       "<div>\n",
       "<style scoped>\n",
       "    .dataframe tbody tr th:only-of-type {\n",
       "        vertical-align: middle;\n",
       "    }\n",
       "\n",
       "    .dataframe tbody tr th {\n",
       "        vertical-align: top;\n",
       "    }\n",
       "\n",
       "    .dataframe thead th {\n",
       "        text-align: right;\n",
       "    }\n",
       "</style>\n",
       "<table border=\"1\" class=\"dataframe\">\n",
       "  <thead>\n",
       "    <tr style=\"text-align: right;\">\n",
       "      <th></th>\n",
       "      <th>session_id</th>\n",
       "      <th>0</th>\n",
       "      <th>1</th>\n",
       "      <th>2</th>\n",
       "      <th>3</th>\n",
       "      <th>4</th>\n",
       "      <th>5</th>\n",
       "      <th>6</th>\n",
       "      <th>7</th>\n",
       "      <th>8</th>\n",
       "      <th>...</th>\n",
       "      <th>177</th>\n",
       "      <th>178</th>\n",
       "      <th>179</th>\n",
       "      <th>180</th>\n",
       "      <th>181</th>\n",
       "      <th>182</th>\n",
       "      <th>183</th>\n",
       "      <th>184</th>\n",
       "      <th>185</th>\n",
       "      <th>186</th>\n",
       "    </tr>\n",
       "  </thead>\n",
       "  <tbody>\n",
       "    <tr>\n",
       "      <th>972</th>\n",
       "      <td>0528d2577046084c33aa25e6403a3c3f</td>\n",
       "      <td>1</td>\n",
       "      <td>0</td>\n",
       "      <td>0</td>\n",
       "      <td>1377952440</td>\n",
       "      <td>246</td>\n",
       "      <td>-</td>\n",
       "      <td>67</td>\n",
       "      <td>0</td>\n",
       "      <td>0</td>\n",
       "      <td>...</td>\n",
       "      <td>0</td>\n",
       "      <td>-</td>\n",
       "      <td>-</td>\n",
       "      <td>-</td>\n",
       "      <td>-</td>\n",
       "      <td>-</td>\n",
       "      <td>-</td>\n",
       "      <td>-</td>\n",
       "      <td>-</td>\n",
       "      <td>-</td>\n",
       "    </tr>\n",
       "    <tr>\n",
       "      <th>33437</th>\n",
       "      <td>ab7ab576253456d842f33a3d019384f5</td>\n",
       "      <td>1</td>\n",
       "      <td>0</td>\n",
       "      <td>0</td>\n",
       "      <td>1365793977</td>\n",
       "      <td>387</td>\n",
       "      <td>118</td>\n",
       "      <td>90</td>\n",
       "      <td>0</td>\n",
       "      <td>0</td>\n",
       "      <td>...</td>\n",
       "      <td>0</td>\n",
       "      <td>-</td>\n",
       "      <td>-</td>\n",
       "      <td>-</td>\n",
       "      <td>-</td>\n",
       "      <td>-</td>\n",
       "      <td>-</td>\n",
       "      <td>-</td>\n",
       "      <td>-</td>\n",
       "      <td>273</td>\n",
       "    </tr>\n",
       "    <tr>\n",
       "      <th>8040</th>\n",
       "      <td>299dd1cfe4e36ea6fa671f237fe82b72</td>\n",
       "      <td>-</td>\n",
       "      <td>0</td>\n",
       "      <td>0</td>\n",
       "      <td>1399282056</td>\n",
       "      <td>0</td>\n",
       "      <td>-</td>\n",
       "      <td>16</td>\n",
       "      <td>0</td>\n",
       "      <td>0</td>\n",
       "      <td>...</td>\n",
       "      <td>0</td>\n",
       "      <td>-</td>\n",
       "      <td>-</td>\n",
       "      <td>-</td>\n",
       "      <td>-</td>\n",
       "      <td>-</td>\n",
       "      <td>-</td>\n",
       "      <td>-</td>\n",
       "      <td>-</td>\n",
       "      <td>-</td>\n",
       "    </tr>\n",
       "    <tr>\n",
       "      <th>38511</th>\n",
       "      <td>c536ff2a54cd9e96bd6369b4dbabb063</td>\n",
       "      <td>-</td>\n",
       "      <td>0</td>\n",
       "      <td>-</td>\n",
       "      <td>1399303393</td>\n",
       "      <td>0</td>\n",
       "      <td>-</td>\n",
       "      <td>-</td>\n",
       "      <td>0</td>\n",
       "      <td>0</td>\n",
       "      <td>...</td>\n",
       "      <td>-</td>\n",
       "      <td>-</td>\n",
       "      <td>-</td>\n",
       "      <td>-</td>\n",
       "      <td>-</td>\n",
       "      <td>-</td>\n",
       "      <td>-</td>\n",
       "      <td>-</td>\n",
       "      <td>-</td>\n",
       "      <td>-</td>\n",
       "    </tr>\n",
       "    <tr>\n",
       "      <th>34578</th>\n",
       "      <td>b187fd9126ce70ebee86c23afba2125a</td>\n",
       "      <td>-</td>\n",
       "      <td>0</td>\n",
       "      <td>-</td>\n",
       "      <td>1399238094</td>\n",
       "      <td>0</td>\n",
       "      <td>-</td>\n",
       "      <td>-</td>\n",
       "      <td>0</td>\n",
       "      <td>0</td>\n",
       "      <td>...</td>\n",
       "      <td>-</td>\n",
       "      <td>-</td>\n",
       "      <td>-</td>\n",
       "      <td>-</td>\n",
       "      <td>-</td>\n",
       "      <td>-</td>\n",
       "      <td>-</td>\n",
       "      <td>-</td>\n",
       "      <td>-</td>\n",
       "      <td>-</td>\n",
       "    </tr>\n",
       "    <tr>\n",
       "      <th>28575</th>\n",
       "      <td>927b686663ae25146469b48028d5e491</td>\n",
       "      <td>-</td>\n",
       "      <td>0</td>\n",
       "      <td>-</td>\n",
       "      <td>1383281973</td>\n",
       "      <td>184</td>\n",
       "      <td>-</td>\n",
       "      <td>-</td>\n",
       "      <td>0</td>\n",
       "      <td>0</td>\n",
       "      <td>...</td>\n",
       "      <td>-</td>\n",
       "      <td>-</td>\n",
       "      <td>-</td>\n",
       "      <td>-</td>\n",
       "      <td>-</td>\n",
       "      <td>-</td>\n",
       "      <td>-</td>\n",
       "      <td>-</td>\n",
       "      <td>-</td>\n",
       "      <td>-</td>\n",
       "    </tr>\n",
       "    <tr>\n",
       "      <th>6870</th>\n",
       "      <td>238f1af7a325f8dd9ef81c98679630b2</td>\n",
       "      <td>1</td>\n",
       "      <td>0</td>\n",
       "      <td>0</td>\n",
       "      <td>1397109006</td>\n",
       "      <td>24</td>\n",
       "      <td>-</td>\n",
       "      <td>67</td>\n",
       "      <td>0</td>\n",
       "      <td>0</td>\n",
       "      <td>...</td>\n",
       "      <td>0</td>\n",
       "      <td>-</td>\n",
       "      <td>-</td>\n",
       "      <td>-</td>\n",
       "      <td>-</td>\n",
       "      <td>-</td>\n",
       "      <td>-</td>\n",
       "      <td>-</td>\n",
       "      <td>-</td>\n",
       "      <td>-</td>\n",
       "    </tr>\n",
       "    <tr>\n",
       "      <th>45466</th>\n",
       "      <td>e8ab54f7008a6b109a41e44ed901bf9b</td>\n",
       "      <td>-</td>\n",
       "      <td>0</td>\n",
       "      <td>-</td>\n",
       "      <td>1376027888</td>\n",
       "      <td>268</td>\n",
       "      <td>-</td>\n",
       "      <td>-</td>\n",
       "      <td>0</td>\n",
       "      <td>0</td>\n",
       "      <td>...</td>\n",
       "      <td>-</td>\n",
       "      <td>-</td>\n",
       "      <td>-</td>\n",
       "      <td>-</td>\n",
       "      <td>-</td>\n",
       "      <td>-</td>\n",
       "      <td>-</td>\n",
       "      <td>-</td>\n",
       "      <td>-</td>\n",
       "      <td>-</td>\n",
       "    </tr>\n",
       "    <tr>\n",
       "      <th>32250</th>\n",
       "      <td>a56f950d106d44de839da5e69ef34cef</td>\n",
       "      <td>-</td>\n",
       "      <td>0</td>\n",
       "      <td>-</td>\n",
       "      <td>1399241377</td>\n",
       "      <td>0</td>\n",
       "      <td>-</td>\n",
       "      <td>-</td>\n",
       "      <td>0</td>\n",
       "      <td>0</td>\n",
       "      <td>...</td>\n",
       "      <td>-</td>\n",
       "      <td>-</td>\n",
       "      <td>-</td>\n",
       "      <td>-</td>\n",
       "      <td>-</td>\n",
       "      <td>-</td>\n",
       "      <td>-</td>\n",
       "      <td>-</td>\n",
       "      <td>-</td>\n",
       "      <td>-</td>\n",
       "    </tr>\n",
       "    <tr>\n",
       "      <th>47273</th>\n",
       "      <td>f19e9361aaf02acc879091022fc52436</td>\n",
       "      <td>-</td>\n",
       "      <td>0</td>\n",
       "      <td>-</td>\n",
       "      <td>1387126800</td>\n",
       "      <td>141</td>\n",
       "      <td>-</td>\n",
       "      <td>-</td>\n",
       "      <td>0</td>\n",
       "      <td>0</td>\n",
       "      <td>...</td>\n",
       "      <td>-</td>\n",
       "      <td>-</td>\n",
       "      <td>-</td>\n",
       "      <td>-</td>\n",
       "      <td>-</td>\n",
       "      <td>-</td>\n",
       "      <td>-</td>\n",
       "      <td>-</td>\n",
       "      <td>-</td>\n",
       "      <td>-</td>\n",
       "    </tr>\n",
       "  </tbody>\n",
       "</table>\n",
       "<p>10 rows × 188 columns</p>\n",
       "</div>"
      ],
      "text/plain": [
       "                             session_id  0  1  2           3    4    5   6  7  \\\n",
       "972    0528d2577046084c33aa25e6403a3c3f  1  0  0  1377952440  246    -  67  0   \n",
       "33437  ab7ab576253456d842f33a3d019384f5  1  0  0  1365793977  387  118  90  0   \n",
       "8040   299dd1cfe4e36ea6fa671f237fe82b72  -  0  0  1399282056    0    -  16  0   \n",
       "38511  c536ff2a54cd9e96bd6369b4dbabb063  -  0  -  1399303393    0    -   -  0   \n",
       "34578  b187fd9126ce70ebee86c23afba2125a  -  0  -  1399238094    0    -   -  0   \n",
       "28575  927b686663ae25146469b48028d5e491  -  0  -  1383281973  184    -   -  0   \n",
       "6870   238f1af7a325f8dd9ef81c98679630b2  1  0  0  1397109006   24    -  67  0   \n",
       "45466  e8ab54f7008a6b109a41e44ed901bf9b  -  0  -  1376027888  268    -   -  0   \n",
       "32250  a56f950d106d44de839da5e69ef34cef  -  0  -  1399241377    0    -   -  0   \n",
       "47273  f19e9361aaf02acc879091022fc52436  -  0  -  1387126800  141    -   -  0   \n",
       "\n",
       "       8  ...  177 178 179  180  181  182  183  184 185  186  \n",
       "972    0  ...    0   -   -    -    -    -    -    -   -    -  \n",
       "33437  0  ...    0   -   -    -    -    -    -    -   -  273  \n",
       "8040   0  ...    0   -   -    -    -    -    -    -   -    -  \n",
       "38511  0  ...    -   -   -    -    -    -    -    -   -    -  \n",
       "34578  0  ...    -   -   -    -    -    -    -    -   -    -  \n",
       "28575  0  ...    -   -   -    -    -    -    -    -   -    -  \n",
       "6870   0  ...    0   -   -    -    -    -    -    -   -    -  \n",
       "45466  0  ...    -   -   -    -    -    -    -    -   -    -  \n",
       "32250  0  ...    -   -   -    -    -    -    -    -   -    -  \n",
       "47273  0  ...    -   -   -    -    -    -    -    -   -    -  \n",
       "\n",
       "[10 rows x 188 columns]"
      ]
     },
     "execution_count": 9,
     "metadata": {},
     "output_type": "execute_result"
    }
   ],
   "source": [
    "data.sample(10)"
   ]
  },
  {
   "cell_type": "code",
   "execution_count": 10,
   "id": "be4c9e00",
   "metadata": {},
   "outputs": [
    {
     "data": {
      "text/plain": [
       "(49958, 188)"
      ]
     },
     "execution_count": 10,
     "metadata": {},
     "output_type": "execute_result"
    }
   ],
   "source": [
    "data.shape"
   ]
  },
  {
   "cell_type": "code",
   "execution_count": 11,
   "id": "785ff689",
   "metadata": {},
   "outputs": [
    {
     "data": {
      "text/html": [
       "<div>\n",
       "<style scoped>\n",
       "    .dataframe tbody tr th:only-of-type {\n",
       "        vertical-align: middle;\n",
       "    }\n",
       "\n",
       "    .dataframe tbody tr th {\n",
       "        vertical-align: top;\n",
       "    }\n",
       "\n",
       "    .dataframe thead th {\n",
       "        text-align: right;\n",
       "    }\n",
       "</style>\n",
       "<table border=\"1\" class=\"dataframe\">\n",
       "  <thead>\n",
       "    <tr style=\"text-align: right;\">\n",
       "      <th></th>\n",
       "      <th>1</th>\n",
       "      <th>3</th>\n",
       "      <th>4</th>\n",
       "      <th>7</th>\n",
       "      <th>8</th>\n",
       "      <th>9</th>\n",
       "      <th>12</th>\n",
       "      <th>13</th>\n",
       "      <th>14</th>\n",
       "      <th>15</th>\n",
       "      <th>...</th>\n",
       "      <th>100</th>\n",
       "      <th>101</th>\n",
       "      <th>138</th>\n",
       "      <th>139</th>\n",
       "      <th>140</th>\n",
       "      <th>157</th>\n",
       "      <th>158</th>\n",
       "      <th>169</th>\n",
       "      <th>173</th>\n",
       "      <th>174</th>\n",
       "    </tr>\n",
       "  </thead>\n",
       "  <tbody>\n",
       "    <tr>\n",
       "      <th>count</th>\n",
       "      <td>49958.0</td>\n",
       "      <td>4.995800e+04</td>\n",
       "      <td>49958.000000</td>\n",
       "      <td>49958.000000</td>\n",
       "      <td>49958.0</td>\n",
       "      <td>49958.0</td>\n",
       "      <td>49958.000000</td>\n",
       "      <td>4.995800e+04</td>\n",
       "      <td>49958.000000</td>\n",
       "      <td>4.995800e+04</td>\n",
       "      <td>...</td>\n",
       "      <td>49958.0</td>\n",
       "      <td>49958.0</td>\n",
       "      <td>49958.0</td>\n",
       "      <td>49958.000000</td>\n",
       "      <td>49958.000000</td>\n",
       "      <td>49958.000000</td>\n",
       "      <td>49958.0</td>\n",
       "      <td>49958.0</td>\n",
       "      <td>49958.0</td>\n",
       "      <td>49958.000000</td>\n",
       "    </tr>\n",
       "    <tr>\n",
       "      <th>mean</th>\n",
       "      <td>0.0</td>\n",
       "      <td>1.388501e+09</td>\n",
       "      <td>124.348773</td>\n",
       "      <td>0.001161</td>\n",
       "      <td>0.0</td>\n",
       "      <td>0.0</td>\n",
       "      <td>17425.885384</td>\n",
       "      <td>1.399274e+09</td>\n",
       "      <td>10.856560</td>\n",
       "      <td>1.399292e+09</td>\n",
       "      <td>...</td>\n",
       "      <td>0.0</td>\n",
       "      <td>0.0</td>\n",
       "      <td>0.0</td>\n",
       "      <td>14.476680</td>\n",
       "      <td>0.003123</td>\n",
       "      <td>1.200749</td>\n",
       "      <td>0.0</td>\n",
       "      <td>0.0</td>\n",
       "      <td>0.0</td>\n",
       "      <td>0.019636</td>\n",
       "    </tr>\n",
       "    <tr>\n",
       "      <th>std</th>\n",
       "      <td>0.0</td>\n",
       "      <td>1.789247e+07</td>\n",
       "      <td>206.954517</td>\n",
       "      <td>0.034054</td>\n",
       "      <td>0.0</td>\n",
       "      <td>0.0</td>\n",
       "      <td>23700.004339</td>\n",
       "      <td>2.443561e+04</td>\n",
       "      <td>6.753564</td>\n",
       "      <td>2.257537e+04</td>\n",
       "      <td>...</td>\n",
       "      <td>0.0</td>\n",
       "      <td>0.0</td>\n",
       "      <td>0.0</td>\n",
       "      <td>52.516905</td>\n",
       "      <td>0.128548</td>\n",
       "      <td>1.623373</td>\n",
       "      <td>0.0</td>\n",
       "      <td>0.0</td>\n",
       "      <td>0.0</td>\n",
       "      <td>0.138749</td>\n",
       "    </tr>\n",
       "    <tr>\n",
       "      <th>min</th>\n",
       "      <td>0.0</td>\n",
       "      <td>1.220330e+09</td>\n",
       "      <td>0.000000</td>\n",
       "      <td>0.000000</td>\n",
       "      <td>0.0</td>\n",
       "      <td>0.0</td>\n",
       "      <td>0.000000</td>\n",
       "      <td>1.399234e+09</td>\n",
       "      <td>0.000000</td>\n",
       "      <td>1.399234e+09</td>\n",
       "      <td>...</td>\n",
       "      <td>0.0</td>\n",
       "      <td>0.0</td>\n",
       "      <td>0.0</td>\n",
       "      <td>0.000000</td>\n",
       "      <td>0.000000</td>\n",
       "      <td>0.000000</td>\n",
       "      <td>0.0</td>\n",
       "      <td>0.0</td>\n",
       "      <td>0.0</td>\n",
       "      <td>0.000000</td>\n",
       "    </tr>\n",
       "    <tr>\n",
       "      <th>25%</th>\n",
       "      <td>0.0</td>\n",
       "      <td>1.382018e+09</td>\n",
       "      <td>0.000000</td>\n",
       "      <td>0.000000</td>\n",
       "      <td>0.0</td>\n",
       "      <td>0.0</td>\n",
       "      <td>15.000000</td>\n",
       "      <td>1.399256e+09</td>\n",
       "      <td>6.000000</td>\n",
       "      <td>1.399279e+09</td>\n",
       "      <td>...</td>\n",
       "      <td>0.0</td>\n",
       "      <td>0.0</td>\n",
       "      <td>0.0</td>\n",
       "      <td>0.000000</td>\n",
       "      <td>0.000000</td>\n",
       "      <td>1.000000</td>\n",
       "      <td>0.0</td>\n",
       "      <td>0.0</td>\n",
       "      <td>0.0</td>\n",
       "      <td>0.000000</td>\n",
       "    </tr>\n",
       "    <tr>\n",
       "      <th>50%</th>\n",
       "      <td>0.0</td>\n",
       "      <td>1.396988e+09</td>\n",
       "      <td>26.000000</td>\n",
       "      <td>0.000000</td>\n",
       "      <td>0.0</td>\n",
       "      <td>0.0</td>\n",
       "      <td>1945.000000</td>\n",
       "      <td>1.399273e+09</td>\n",
       "      <td>10.000000</td>\n",
       "      <td>1.399297e+09</td>\n",
       "      <td>...</td>\n",
       "      <td>0.0</td>\n",
       "      <td>0.0</td>\n",
       "      <td>0.0</td>\n",
       "      <td>0.000000</td>\n",
       "      <td>0.000000</td>\n",
       "      <td>1.000000</td>\n",
       "      <td>0.0</td>\n",
       "      <td>0.0</td>\n",
       "      <td>0.0</td>\n",
       "      <td>0.000000</td>\n",
       "    </tr>\n",
       "    <tr>\n",
       "      <th>75%</th>\n",
       "      <td>0.0</td>\n",
       "      <td>1.399265e+09</td>\n",
       "      <td>199.000000</td>\n",
       "      <td>0.000000</td>\n",
       "      <td>0.0</td>\n",
       "      <td>0.0</td>\n",
       "      <td>32192.750000</td>\n",
       "      <td>1.399295e+09</td>\n",
       "      <td>17.000000</td>\n",
       "      <td>1.399310e+09</td>\n",
       "      <td>...</td>\n",
       "      <td>0.0</td>\n",
       "      <td>0.0</td>\n",
       "      <td>0.0</td>\n",
       "      <td>0.000000</td>\n",
       "      <td>0.000000</td>\n",
       "      <td>1.000000</td>\n",
       "      <td>0.0</td>\n",
       "      <td>0.0</td>\n",
       "      <td>0.0</td>\n",
       "      <td>0.000000</td>\n",
       "    </tr>\n",
       "    <tr>\n",
       "      <th>max</th>\n",
       "      <td>0.0</td>\n",
       "      <td>1.399320e+09</td>\n",
       "      <td>2070.000000</td>\n",
       "      <td>1.000000</td>\n",
       "      <td>0.0</td>\n",
       "      <td>0.0</td>\n",
       "      <td>86390.000000</td>\n",
       "      <td>1.399320e+09</td>\n",
       "      <td>23.000000</td>\n",
       "      <td>1.399320e+09</td>\n",
       "      <td>...</td>\n",
       "      <td>0.0</td>\n",
       "      <td>0.0</td>\n",
       "      <td>0.0</td>\n",
       "      <td>1204.000000</td>\n",
       "      <td>23.000000</td>\n",
       "      <td>62.000000</td>\n",
       "      <td>0.0</td>\n",
       "      <td>0.0</td>\n",
       "      <td>0.0</td>\n",
       "      <td>1.000000</td>\n",
       "    </tr>\n",
       "  </tbody>\n",
       "</table>\n",
       "<p>8 rows × 43 columns</p>\n",
       "</div>"
      ],
      "text/plain": [
       "             1             3             4             7        8        9  \\\n",
       "count  49958.0  4.995800e+04  49958.000000  49958.000000  49958.0  49958.0   \n",
       "mean       0.0  1.388501e+09    124.348773      0.001161      0.0      0.0   \n",
       "std        0.0  1.789247e+07    206.954517      0.034054      0.0      0.0   \n",
       "min        0.0  1.220330e+09      0.000000      0.000000      0.0      0.0   \n",
       "25%        0.0  1.382018e+09      0.000000      0.000000      0.0      0.0   \n",
       "50%        0.0  1.396988e+09     26.000000      0.000000      0.0      0.0   \n",
       "75%        0.0  1.399265e+09    199.000000      0.000000      0.0      0.0   \n",
       "max        0.0  1.399320e+09   2070.000000      1.000000      0.0      0.0   \n",
       "\n",
       "                 12            13            14            15  ...      100  \\\n",
       "count  49958.000000  4.995800e+04  49958.000000  4.995800e+04  ...  49958.0   \n",
       "mean   17425.885384  1.399274e+09     10.856560  1.399292e+09  ...      0.0   \n",
       "std    23700.004339  2.443561e+04      6.753564  2.257537e+04  ...      0.0   \n",
       "min        0.000000  1.399234e+09      0.000000  1.399234e+09  ...      0.0   \n",
       "25%       15.000000  1.399256e+09      6.000000  1.399279e+09  ...      0.0   \n",
       "50%     1945.000000  1.399273e+09     10.000000  1.399297e+09  ...      0.0   \n",
       "75%    32192.750000  1.399295e+09     17.000000  1.399310e+09  ...      0.0   \n",
       "max    86390.000000  1.399320e+09     23.000000  1.399320e+09  ...      0.0   \n",
       "\n",
       "           101      138           139           140           157      158  \\\n",
       "count  49958.0  49958.0  49958.000000  49958.000000  49958.000000  49958.0   \n",
       "mean       0.0      0.0     14.476680      0.003123      1.200749      0.0   \n",
       "std        0.0      0.0     52.516905      0.128548      1.623373      0.0   \n",
       "min        0.0      0.0      0.000000      0.000000      0.000000      0.0   \n",
       "25%        0.0      0.0      0.000000      0.000000      1.000000      0.0   \n",
       "50%        0.0      0.0      0.000000      0.000000      1.000000      0.0   \n",
       "75%        0.0      0.0      0.000000      0.000000      1.000000      0.0   \n",
       "max        0.0      0.0   1204.000000     23.000000     62.000000      0.0   \n",
       "\n",
       "           169      173           174  \n",
       "count  49958.0  49958.0  49958.000000  \n",
       "mean       0.0      0.0      0.019636  \n",
       "std        0.0      0.0      0.138749  \n",
       "min        0.0      0.0      0.000000  \n",
       "25%        0.0      0.0      0.000000  \n",
       "50%        0.0      0.0      0.000000  \n",
       "75%        0.0      0.0      0.000000  \n",
       "max        0.0      0.0      1.000000  \n",
       "\n",
       "[8 rows x 43 columns]"
      ]
     },
     "execution_count": 11,
     "metadata": {},
     "output_type": "execute_result"
    }
   ],
   "source": [
    "data.describe()"
   ]
  },
  {
   "cell_type": "markdown",
   "id": "1953b1bf",
   "metadata": {},
   "source": [
    "### Вывод по файлу 'task2_1_'\n",
    "1. Часть столбцов считалась как текст. Необходимо привести столбцы к формату int.\n",
    "2. Все значения положительные. Пропуски можно заменить на отрицательные значения, чтобы отличать их от всех остальных."
   ]
  },
  {
   "cell_type": "code",
   "execution_count": 12,
   "id": "a027d339",
   "metadata": {},
   "outputs": [
    {
     "name": "stderr",
     "output_type": "stream",
     "text": [
      "100%|████████████████████████████████████████████████████████████████████████████████| 187/187 [00:15<00:00, 12.34it/s]\n"
     ]
    }
   ],
   "source": [
    "# приведем данные к формату int и заменить пропуски на отрицательные значения, а слишком большие числа - на максимальные для данной системы\n",
    "for n_col in tqdm(range(187)):\n",
    "    data[str(n_col)] = data[str(n_col)].astype(str)\n",
    "    data[str(n_col)] = np.where(data[str(n_col)]=='-', '-1', data[str(n_col)])\n",
    "    data[str(n_col)] = np.where(data[str(n_col)]>str(sys.maxsize), str(sys.maxsize), data[str(n_col)])\n",
    "    #data[str(n_col)] = data[str(n_col)].astype(int)\n",
    "    data[str(n_col)] = data[str(n_col)].apply(lambda x: int(x))"
   ]
  },
  {
   "cell_type": "code",
   "execution_count": 13,
   "id": "8904e52b",
   "metadata": {},
   "outputs": [
    {
     "data": {
      "text/html": [
       "<div>\n",
       "<style scoped>\n",
       "    .dataframe tbody tr th:only-of-type {\n",
       "        vertical-align: middle;\n",
       "    }\n",
       "\n",
       "    .dataframe tbody tr th {\n",
       "        vertical-align: top;\n",
       "    }\n",
       "\n",
       "    .dataframe thead th {\n",
       "        text-align: right;\n",
       "    }\n",
       "</style>\n",
       "<table border=\"1\" class=\"dataframe\">\n",
       "  <thead>\n",
       "    <tr style=\"text-align: right;\">\n",
       "      <th></th>\n",
       "      <th>0</th>\n",
       "      <th>1</th>\n",
       "      <th>2</th>\n",
       "      <th>3</th>\n",
       "      <th>4</th>\n",
       "      <th>5</th>\n",
       "      <th>6</th>\n",
       "      <th>7</th>\n",
       "      <th>8</th>\n",
       "      <th>9</th>\n",
       "      <th>...</th>\n",
       "      <th>177</th>\n",
       "      <th>178</th>\n",
       "      <th>179</th>\n",
       "      <th>180</th>\n",
       "      <th>181</th>\n",
       "      <th>182</th>\n",
       "      <th>183</th>\n",
       "      <th>184</th>\n",
       "      <th>185</th>\n",
       "      <th>186</th>\n",
       "    </tr>\n",
       "  </thead>\n",
       "  <tbody>\n",
       "    <tr>\n",
       "      <th>count</th>\n",
       "      <td>49958.000000</td>\n",
       "      <td>49958.0</td>\n",
       "      <td>49958.000000</td>\n",
       "      <td>4.995800e+04</td>\n",
       "      <td>4.995800e+04</td>\n",
       "      <td>4.995800e+04</td>\n",
       "      <td>4.995800e+04</td>\n",
       "      <td>49958.000000</td>\n",
       "      <td>49958.0</td>\n",
       "      <td>49958.0</td>\n",
       "      <td>...</td>\n",
       "      <td>49958.000000</td>\n",
       "      <td>4.995800e+04</td>\n",
       "      <td>4.995800e+04</td>\n",
       "      <td>4.995800e+04</td>\n",
       "      <td>49958.000000</td>\n",
       "      <td>4.995800e+04</td>\n",
       "      <td>49958.000000</td>\n",
       "      <td>4.995800e+04</td>\n",
       "      <td>4.995800e+04</td>\n",
       "      <td>49958.000000</td>\n",
       "    </tr>\n",
       "    <tr>\n",
       "      <th>mean</th>\n",
       "      <td>10.064454</td>\n",
       "      <td>0.0</td>\n",
       "      <td>-0.587233</td>\n",
       "      <td>1.388501e+09</td>\n",
       "      <td>1.181584e+17</td>\n",
       "      <td>2.566253e+16</td>\n",
       "      <td>2.640102e+16</td>\n",
       "      <td>0.001161</td>\n",
       "      <td>0.0</td>\n",
       "      <td>0.0</td>\n",
       "      <td>...</td>\n",
       "      <td>-0.583770</td>\n",
       "      <td>9.231126e+14</td>\n",
       "      <td>2.400093e+15</td>\n",
       "      <td>3.692450e+14</td>\n",
       "      <td>-0.208675</td>\n",
       "      <td>8.861881e+15</td>\n",
       "      <td>-0.699127</td>\n",
       "      <td>1.846225e+14</td>\n",
       "      <td>1.846225e+14</td>\n",
       "      <td>38.337443</td>\n",
       "    </tr>\n",
       "    <tr>\n",
       "      <th>std</th>\n",
       "      <td>130.689610</td>\n",
       "      <td>0.0</td>\n",
       "      <td>0.602544</td>\n",
       "      <td>1.789247e+07</td>\n",
       "      <td>1.037246e+18</td>\n",
       "      <td>4.858407e+17</td>\n",
       "      <td>4.927619e+17</td>\n",
       "      <td>0.034054</td>\n",
       "      <td>0.0</td>\n",
       "      <td>0.0</td>\n",
       "      <td>...</td>\n",
       "      <td>1.528983</td>\n",
       "      <td>9.226879e+16</td>\n",
       "      <td>1.487670e+17</td>\n",
       "      <td>5.835766e+16</td>\n",
       "      <td>6.082056</td>\n",
       "      <td>2.857613e+17</td>\n",
       "      <td>37.638749</td>\n",
       "      <td>4.126551e+16</td>\n",
       "      <td>4.126551e+16</td>\n",
       "      <td>128.437821</td>\n",
       "    </tr>\n",
       "    <tr>\n",
       "      <th>min</th>\n",
       "      <td>-1.000000</td>\n",
       "      <td>0.0</td>\n",
       "      <td>-1.000000</td>\n",
       "      <td>1.220330e+09</td>\n",
       "      <td>0.000000e+00</td>\n",
       "      <td>-1.000000e+00</td>\n",
       "      <td>-1.000000e+00</td>\n",
       "      <td>0.000000</td>\n",
       "      <td>0.0</td>\n",
       "      <td>0.0</td>\n",
       "      <td>...</td>\n",
       "      <td>-1.000000</td>\n",
       "      <td>-1.000000e+00</td>\n",
       "      <td>-1.000000e+00</td>\n",
       "      <td>-1.000000e+00</td>\n",
       "      <td>-1.000000</td>\n",
       "      <td>-1.000000e+00</td>\n",
       "      <td>-1.000000</td>\n",
       "      <td>-1.000000e+00</td>\n",
       "      <td>-1.000000e+00</td>\n",
       "      <td>-1.000000</td>\n",
       "    </tr>\n",
       "    <tr>\n",
       "      <th>25%</th>\n",
       "      <td>-1.000000</td>\n",
       "      <td>0.0</td>\n",
       "      <td>-1.000000</td>\n",
       "      <td>1.382018e+09</td>\n",
       "      <td>0.000000e+00</td>\n",
       "      <td>-1.000000e+00</td>\n",
       "      <td>-1.000000e+00</td>\n",
       "      <td>0.000000</td>\n",
       "      <td>0.0</td>\n",
       "      <td>0.0</td>\n",
       "      <td>...</td>\n",
       "      <td>-1.000000</td>\n",
       "      <td>-1.000000e+00</td>\n",
       "      <td>-1.000000e+00</td>\n",
       "      <td>-1.000000e+00</td>\n",
       "      <td>-1.000000</td>\n",
       "      <td>-1.000000e+00</td>\n",
       "      <td>-1.000000</td>\n",
       "      <td>-1.000000e+00</td>\n",
       "      <td>-1.000000e+00</td>\n",
       "      <td>-1.000000</td>\n",
       "    </tr>\n",
       "    <tr>\n",
       "      <th>50%</th>\n",
       "      <td>-1.000000</td>\n",
       "      <td>0.0</td>\n",
       "      <td>-1.000000</td>\n",
       "      <td>1.396988e+09</td>\n",
       "      <td>2.600000e+01</td>\n",
       "      <td>-1.000000e+00</td>\n",
       "      <td>-1.000000e+00</td>\n",
       "      <td>0.000000</td>\n",
       "      <td>0.0</td>\n",
       "      <td>0.0</td>\n",
       "      <td>...</td>\n",
       "      <td>-1.000000</td>\n",
       "      <td>-1.000000e+00</td>\n",
       "      <td>-1.000000e+00</td>\n",
       "      <td>-1.000000e+00</td>\n",
       "      <td>-1.000000</td>\n",
       "      <td>-1.000000e+00</td>\n",
       "      <td>-1.000000</td>\n",
       "      <td>-1.000000e+00</td>\n",
       "      <td>-1.000000e+00</td>\n",
       "      <td>-1.000000</td>\n",
       "    </tr>\n",
       "    <tr>\n",
       "      <th>75%</th>\n",
       "      <td>1.000000</td>\n",
       "      <td>0.0</td>\n",
       "      <td>0.000000</td>\n",
       "      <td>1.399265e+09</td>\n",
       "      <td>2.170000e+02</td>\n",
       "      <td>-1.000000e+00</td>\n",
       "      <td>1.600000e+01</td>\n",
       "      <td>0.000000</td>\n",
       "      <td>0.0</td>\n",
       "      <td>0.0</td>\n",
       "      <td>...</td>\n",
       "      <td>0.000000</td>\n",
       "      <td>-1.000000e+00</td>\n",
       "      <td>-1.000000e+00</td>\n",
       "      <td>-1.000000e+00</td>\n",
       "      <td>-1.000000</td>\n",
       "      <td>-1.000000e+00</td>\n",
       "      <td>-1.000000</td>\n",
       "      <td>-1.000000e+00</td>\n",
       "      <td>-1.000000e+00</td>\n",
       "      <td>-1.000000</td>\n",
       "    </tr>\n",
       "    <tr>\n",
       "      <th>max</th>\n",
       "      <td>1648.000000</td>\n",
       "      <td>0.0</td>\n",
       "      <td>11.000000</td>\n",
       "      <td>1.399320e+09</td>\n",
       "      <td>9.223372e+18</td>\n",
       "      <td>9.223372e+18</td>\n",
       "      <td>9.223372e+18</td>\n",
       "      <td>1.000000</td>\n",
       "      <td>0.0</td>\n",
       "      <td>0.0</td>\n",
       "      <td>...</td>\n",
       "      <td>261.000000</td>\n",
       "      <td>9.223372e+18</td>\n",
       "      <td>9.223372e+18</td>\n",
       "      <td>9.223372e+18</td>\n",
       "      <td>100.000000</td>\n",
       "      <td>9.223372e+18</td>\n",
       "      <td>6676.000000</td>\n",
       "      <td>9.223372e+18</td>\n",
       "      <td>9.223372e+18</td>\n",
       "      <td>741.000000</td>\n",
       "    </tr>\n",
       "  </tbody>\n",
       "</table>\n",
       "<p>8 rows × 187 columns</p>\n",
       "</div>"
      ],
      "text/plain": [
       "                  0        1             2             3             4  \\\n",
       "count  49958.000000  49958.0  49958.000000  4.995800e+04  4.995800e+04   \n",
       "mean      10.064454      0.0     -0.587233  1.388501e+09  1.181584e+17   \n",
       "std      130.689610      0.0      0.602544  1.789247e+07  1.037246e+18   \n",
       "min       -1.000000      0.0     -1.000000  1.220330e+09  0.000000e+00   \n",
       "25%       -1.000000      0.0     -1.000000  1.382018e+09  0.000000e+00   \n",
       "50%       -1.000000      0.0     -1.000000  1.396988e+09  2.600000e+01   \n",
       "75%        1.000000      0.0      0.000000  1.399265e+09  2.170000e+02   \n",
       "max     1648.000000      0.0     11.000000  1.399320e+09  9.223372e+18   \n",
       "\n",
       "                  5             6             7        8        9  ...  \\\n",
       "count  4.995800e+04  4.995800e+04  49958.000000  49958.0  49958.0  ...   \n",
       "mean   2.566253e+16  2.640102e+16      0.001161      0.0      0.0  ...   \n",
       "std    4.858407e+17  4.927619e+17      0.034054      0.0      0.0  ...   \n",
       "min   -1.000000e+00 -1.000000e+00      0.000000      0.0      0.0  ...   \n",
       "25%   -1.000000e+00 -1.000000e+00      0.000000      0.0      0.0  ...   \n",
       "50%   -1.000000e+00 -1.000000e+00      0.000000      0.0      0.0  ...   \n",
       "75%   -1.000000e+00  1.600000e+01      0.000000      0.0      0.0  ...   \n",
       "max    9.223372e+18  9.223372e+18      1.000000      0.0      0.0  ...   \n",
       "\n",
       "                177           178           179           180           181  \\\n",
       "count  49958.000000  4.995800e+04  4.995800e+04  4.995800e+04  49958.000000   \n",
       "mean      -0.583770  9.231126e+14  2.400093e+15  3.692450e+14     -0.208675   \n",
       "std        1.528983  9.226879e+16  1.487670e+17  5.835766e+16      6.082056   \n",
       "min       -1.000000 -1.000000e+00 -1.000000e+00 -1.000000e+00     -1.000000   \n",
       "25%       -1.000000 -1.000000e+00 -1.000000e+00 -1.000000e+00     -1.000000   \n",
       "50%       -1.000000 -1.000000e+00 -1.000000e+00 -1.000000e+00     -1.000000   \n",
       "75%        0.000000 -1.000000e+00 -1.000000e+00 -1.000000e+00     -1.000000   \n",
       "max      261.000000  9.223372e+18  9.223372e+18  9.223372e+18    100.000000   \n",
       "\n",
       "                182           183           184           185           186  \n",
       "count  4.995800e+04  49958.000000  4.995800e+04  4.995800e+04  49958.000000  \n",
       "mean   8.861881e+15     -0.699127  1.846225e+14  1.846225e+14     38.337443  \n",
       "std    2.857613e+17     37.638749  4.126551e+16  4.126551e+16    128.437821  \n",
       "min   -1.000000e+00     -1.000000 -1.000000e+00 -1.000000e+00     -1.000000  \n",
       "25%   -1.000000e+00     -1.000000 -1.000000e+00 -1.000000e+00     -1.000000  \n",
       "50%   -1.000000e+00     -1.000000 -1.000000e+00 -1.000000e+00     -1.000000  \n",
       "75%   -1.000000e+00     -1.000000 -1.000000e+00 -1.000000e+00     -1.000000  \n",
       "max    9.223372e+18   6676.000000  9.223372e+18  9.223372e+18    741.000000  \n",
       "\n",
       "[8 rows x 187 columns]"
      ]
     },
     "execution_count": 13,
     "metadata": {},
     "output_type": "execute_result"
    }
   ],
   "source": [
    "data.describe()"
   ]
  },
  {
   "cell_type": "code",
   "execution_count": 100,
   "id": "c1828f3c",
   "metadata": {},
   "outputs": [],
   "source": [
    "vect = data.drop('session_id', axis=1).to_numpy()"
   ]
  },
  {
   "cell_type": "code",
   "execution_count": 101,
   "id": "e4c36cb1",
   "metadata": {},
   "outputs": [
    {
     "data": {
      "text/plain": [
       "(49958, 187)"
      ]
     },
     "execution_count": 101,
     "metadata": {},
     "output_type": "execute_result"
    }
   ],
   "source": [
    "vect.shape"
   ]
  },
  {
   "cell_type": "code",
   "execution_count": 102,
   "id": "a301471d",
   "metadata": {},
   "outputs": [
    {
     "data": {
      "text/plain": [
       "array([[ 2,  0,  0, ..., -1, -1,  0],\n",
       "       [-1,  0, -1, ..., -1, -1, -1],\n",
       "       [-1,  0, -1, ..., -1, -1, -1],\n",
       "       ...,\n",
       "       [-1,  0, -1, ..., -1, -1, -1],\n",
       "       [ 1,  0,  0, ..., -1, -1, -1],\n",
       "       [ 1,  0,  0, ..., -1, -1, -1]], dtype=int64)"
      ]
     },
     "execution_count": 102,
     "metadata": {},
     "output_type": "execute_result"
    }
   ],
   "source": [
    "vect"
   ]
  },
  {
   "cell_type": "code",
   "execution_count": 103,
   "id": "d1d35434",
   "metadata": {},
   "outputs": [],
   "source": [
    "#from sklearn.cluster import AgglomerativeClustering"
   ]
  },
  {
   "cell_type": "code",
   "execution_count": 104,
   "id": "ce54bd44",
   "metadata": {},
   "outputs": [],
   "source": [
    "#model = AgglomerativeClustering(n_clusters=2)"
   ]
  },
  {
   "cell_type": "code",
   "execution_count": null,
   "id": "3caf200c",
   "metadata": {},
   "outputs": [],
   "source": [
    "#clustering = model.fit(vect)"
   ]
  },
  {
   "cell_type": "code",
   "execution_count": null,
   "id": "ac56df7a",
   "metadata": {},
   "outputs": [],
   "source": [
    "#clustering"
   ]
  },
  {
   "cell_type": "code",
   "execution_count": 7,
   "id": "af8b966e",
   "metadata": {},
   "outputs": [],
   "source": [
    "#test_for_lags['DateKey'] = pd.to_datetime(test_for_lags['DateKey'])"
   ]
  },
  {
   "cell_type": "code",
   "execution_count": 15,
   "id": "03d96db4",
   "metadata": {},
   "outputs": [],
   "source": [
    "with open(r'F:\\Desktop\\DS\\IEC\\Тестовое\\task2_1_', newline='') as csvfile:\n",
    "    # читаем первую строку\n",
    "    dialect = csv.Sniffer().sniff(csvfile.read())\n",
    "    # во избежании потерь данных\n",
    "    # переводим курсор на начало файла\n",
    "    csvfile.seek(0)\n",
    "    # получаем объект чтения\n",
    "    reader = csv.reader(csvfile, dialect)\n",
    "    # ... обрабатываем содержимое CSV файла ..."
   ]
  },
  {
   "cell_type": "code",
   "execution_count": 13,
   "id": "f10019ce",
   "metadata": {},
   "outputs": [],
   "source": [
    "import csv\n",
    "\n",
    "dialect = csv.Sniffer()"
   ]
  },
  {
   "cell_type": "code",
   "execution_count": 16,
   "id": "71dc0578",
   "metadata": {},
   "outputs": [
    {
     "data": {
      "text/plain": [
       "<_csv.reader at 0x29f516249a0>"
      ]
     },
     "execution_count": 16,
     "metadata": {},
     "output_type": "execute_result"
    }
   ],
   "source": [
    "reader"
   ]
  },
  {
   "cell_type": "code",
   "execution_count": null,
   "id": "d641ae33",
   "metadata": {},
   "outputs": [],
   "source": [
    "from apyori import apriori\n",
    "\n",
    "# Load the dataset\n",
    "dataset = pd.read_csv('path/to/dataset.csv', header=None)\n",
    "\n",
    "# Convert the dataset to a list of lists\n",
    "records = []\n",
    "for i in range(len(dataset)):\n",
    "    records.append([str(dataset.values[i,j]) for j in range(len(dataset.columns))])\n",
    "\n",
    "# Run the Apriori algorithm\n",
    "association_rules = apriori(records, min_support=0.005, min_confidence=0.2, min_lift=3, min_length=2)\n",
    "\n",
    "# Print the association rules\n",
    "for rule in association_rules:\n",
    "    print(rule)"
   ]
  },
  {
   "cell_type": "code",
   "execution_count": 14,
   "id": "632e0cb4",
   "metadata": {},
   "outputs": [],
   "source": [
    "dataset = data.drop('session_id', axis=1)"
   ]
  },
  {
   "cell_type": "code",
   "execution_count": null,
   "id": "b52568b4",
   "metadata": {},
   "outputs": [],
   "source": [
    "# Convert the dataset to a list of lists\n",
    "records = []\n",
    "for i in range(len(dataset)):\n",
    "    records.append([str(dataset.values[i,j]) for j in range(len(dataset.columns))])\n",
    "\n",
    "# Run the Apriori algorithm\n",
    "association_rules = apriori(records, min_support=0.005, min_confidence=0.2, min_lift=3, min_length=2)\n",
    "\n",
    "# Print the association rules\n",
    "# for rule in association_rules:\n",
    "#    print(rule)"
   ]
  },
  {
   "cell_type": "code",
   "execution_count": 20,
   "id": "5ee42622",
   "metadata": {},
   "outputs": [],
   "source": []
  },
  {
   "cell_type": "code",
   "execution_count": 2,
   "id": "126977fc",
   "metadata": {},
   "outputs": [
    {
     "name": "stdout",
     "output_type": "stream",
     "text": [
      "Collecting apyori\n",
      "  Downloading apyori-1.1.2.tar.gz (8.6 kB)\n",
      "  Preparing metadata (setup.py): started\n",
      "  Preparing metadata (setup.py): finished with status 'done'\n",
      "Building wheels for collected packages: apyori\n",
      "  Building wheel for apyori (setup.py): started\n",
      "  Building wheel for apyori (setup.py): finished with status 'done'\n",
      "  Created wheel for apyori: filename=apyori-1.1.2-py3-none-any.whl size=5955 sha256=e3934b410c6b6ea60c52c6e847ec599e98ee8012183f95d3fad5f6efd8adb3cc\n",
      "  Stored in directory: c:\\users\\e.yumagulov\\appdata\\local\\pip\\cache\\wheels\\32\\2a\\54\\10c595515f385f3726642b10c60bf788029e8f3a1323e3913a\n",
      "Successfully built apyori\n",
      "Installing collected packages: apyori\n",
      "Successfully installed apyori-1.1.2\n"
     ]
    },
    {
     "name": "stderr",
     "output_type": "stream",
     "text": [
      "\n",
      "[notice] A new release of pip is available: 23.0 -> 23.2.1\n",
      "[notice] To update, run: python.exe -m pip install --upgrade pip\n"
     ]
    }
   ],
   "source": [
    "!pip install apyori"
   ]
  },
  {
   "cell_type": "code",
   "execution_count": null,
   "id": "3c9e0ee9",
   "metadata": {},
   "outputs": [],
   "source": []
  }
 ],
 "metadata": {
  "kernelspec": {
   "display_name": "Python 3 (ipykernel)",
   "language": "python",
   "name": "python3"
  },
  "language_info": {
   "codemirror_mode": {
    "name": "ipython",
    "version": 3
   },
   "file_extension": ".py",
   "mimetype": "text/x-python",
   "name": "python",
   "nbconvert_exporter": "python",
   "pygments_lexer": "ipython3",
   "version": "3.9.13"
  }
 },
 "nbformat": 4,
 "nbformat_minor": 5
}
